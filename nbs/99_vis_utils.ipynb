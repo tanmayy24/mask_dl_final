{
 "cells": [
  {
   "cell_type": "markdown",
   "metadata": {},
   "source": [
    "# Visualization Functions"
   ]
  },
  {
   "cell_type": "code",
   "execution_count": null,
   "metadata": {},
   "outputs": [],
   "source": [
    "#| default_exp vis_utils"
   ]
  },
  {
   "cell_type": "code",
   "execution_count": null,
   "metadata": {},
   "outputs": [],
   "source": [
    "#| export\n",
    "import matplotlib.pyplot as plt\n",
    "import imageio\n",
    "import os"
   ]
  },
  {
   "cell_type": "code",
   "execution_count": null,
   "metadata": {},
   "outputs": [],
   "source": [
    "#| export\n",
    "# Generate gif from a list of images\n",
    "def show_gif(prev, true, pred, out_path, vmax=48, vmin=0, cmap='tab20b'):\n",
    "    def swap_axes(x):\n",
    "            if len(x.shape) > 3:\n",
    "                return x.swapaxes(1,2).swapaxes(2,3)\n",
    "            else: return x\n",
    "\n",
    "    prev, true, pred = map(swap_axes, [prev, true, pred])\n",
    "    prev_frames = prev.shape[0]\n",
    "    frames = prev_frames + true.shape[0]\n",
    "    images = []\n",
    "    tmp_path = os.path.join(os.path.dirname(out_path), 'tmp.png')\n",
    "    for i in range(frames):\n",
    "        fig, axes = plt.subplots(nrows=1, ncols=2, figsize=(9, 6))\n",
    "        for t, ax in enumerate(axes):\n",
    "            if t == 0:\n",
    "                plt.text(0.3, 1.05, 'ground truth', fontsize=15, color='green', transform=ax.transAxes)\n",
    "                if i < prev_frames:\n",
    "                    im = ax.imshow(prev[i], cmap=cmap, vmax=vmax, vmin=vmin)\n",
    "                else:\n",
    "                    im = ax.imshow(true[i-frames], cmap=cmap, vmax=vmax, vmin=vmin)\n",
    "            elif t == 1:\n",
    "                plt.text(0.2, 1.05, 'predicted frames', fontsize=15, color='red', transform=ax.transAxes)\n",
    "                if i < prev_frames:\n",
    "                    im = ax.imshow(prev[i], cmap=cmap, vmax=vmax, vmin=vmin)\n",
    "                else:\n",
    "                    im = ax.imshow(pred[i-frames], cmap=cmap, vmax=vmax, vmin=vmin)\n",
    "            ax.axis('off')\n",
    "        plt.savefig(tmp_path, bbox_inches='tight', format='png')\n",
    "        plt.close()\n",
    "        images.append(imageio.imread(tmp_path))\n",
    "\n",
    "    plt.close()\n",
    "    os.remove(tmp_path)\n",
    "\n",
    "    if out_path is not None:\n",
    "        if not out_path.endswith('gif'):\n",
    "            out_path = out_path + '.gif'\n",
    "        imageio.mimsave(out_path, images)\n"
   ]
  },
  {
   "cell_type": "code",
   "execution_count": null,
   "metadata": {},
   "outputs": [],
   "source": [
    "#| export\n",
    "def show_video_line(data, ncols, vmax=48, vmin=0, cmap='tab20b', cbar=False, format='png', out_path=None):\n",
    "    fig, axes = plt.subplots(nrows=1, ncols=ncols, figsize=(3.25*ncols, 3))\n",
    "    plt.subplots_adjust(wspace=0.01, hspace=0)\n",
    "    images = []\n",
    "    if ncols == 1:\n",
    "        im = axes.imshow(data[0], cmap=cmap, vmin=vmin, vmax=vmax)\n",
    "        images.append(im)\n",
    "        axes.axis('off')\n",
    "        im.set_clim(vmin, vmax)\n",
    "    else:\n",
    "        for t, ax in enumerate(axes.flat):\n",
    "            im = ax.imshow(data[t], cmap=cmap, vmin=vmin, vmax=vmax)\n",
    "            images.append(im)\n",
    "            ax.axis('off')\n",
    "            im.set_clim(vmin, vmax)\n",
    "    if cbar and ncols > 1:\n",
    "        cbaxes = fig.add_axes([0.9, 0.15, 0.04 / ncols, 0.7]) \n",
    "        cbar = fig.colorbar(im, ax=axes.ravel().tolist(), shrink=0.1, cax=cbaxes)\n",
    "\n",
    "    plt.show()\n",
    "    if out_path is not None:\n",
    "        fig.savefig(out_path, format=format, pad_inches=0, bbox_inches='tight')\n",
    "    plt.close()"
   ]
  },
  {
   "cell_type": "code",
   "execution_count": null,
   "metadata": {},
   "outputs": [],
   "source": [
    "#| hide\n",
    "import nbdev; nbdev.nbdev_export()"
   ]
  },
  {
   "cell_type": "code",
   "execution_count": null,
   "metadata": {},
   "outputs": [],
   "source": []
  }
 ],
 "metadata": {
  "kernelspec": {
   "display_name": "python3",
   "language": "python",
   "name": "python3"
  }
 },
 "nbformat": 4,
 "nbformat_minor": 4
}
