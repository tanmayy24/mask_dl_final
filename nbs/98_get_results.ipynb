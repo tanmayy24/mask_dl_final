{
 "cells": [
  {
   "cell_type": "markdown",
   "id": "4aea75b2-9b66-4e8e-9c9e-bfd010532dd5",
   "metadata": {},
   "source": [
    "# Get autoregressive predictions from pretrained checkpoint"
   ]
  },
  {
   "cell_type": "code",
   "execution_count": null,
   "id": "4f607bfa-a4df-43a2-b015-86249064d6a5",
   "metadata": {},
   "outputs": [],
   "source": [
    "%cd .."
   ]
  },
  {
   "cell_type": "code",
   "execution_count": null,
   "id": "79680ae4-130a-4ccd-9502-2663b576c374",
   "metadata": {},
   "outputs": [],
   "source": [
    "from maskpredformer.scheduled_sampling_trainer import MaskSimVPScheduledSamplingModule\n",
    "from maskpredformer.vis_utils import show_gif, show_video_line\n",
    "\n",
    "import random\n",
    "import torch\n",
    "import numpy as np\n",
    "import os\n",
    "import matplotlib.pyplot as plt\n",
    "from tqdm import tqdm"
   ]
  },
  {
   "cell_type": "code",
   "execution_count": null,
   "id": "660dca52-89e6-48fd-bc35-0b73d5152896",
   "metadata": {},
   "outputs": [],
   "source": [
    "ckpt_path = \"checkpoints/simvp_ss_epoch=2-valid_last_frame_iou=0.456.ckpt\"\n",
    "module = MaskSimVPScheduledSamplingModule.load_from_checkpoint(ckpt_path, use_gt_data=True, unlabeled=False)"
   ]
  },
  {
   "cell_type": "code",
   "execution_count": null,
   "id": "e2ab0a33-6d07-4cec-bffa-7253f2a3eb78",
   "metadata": {},
   "outputs": [],
   "source": [
    "@torch.no_grad()\n",
    "def get_result(i):\n",
    "    x, y= module.val_set[i]\n",
    "    x = x.unsqueeze(0).to(module.device)\n",
    "    y = y.unsqueeze(0).to(module.device)\n",
    "    cur_seq = module.sample_autoregressive(x, 11)\n",
    "    x = x.squeeze(0).cpu().numpy()\n",
    "    y = y.squeeze(0).cpu().numpy()\n",
    "    y_hat = cur_seq.squeeze(0).cpu().numpy()\n",
    "    return x, y, y_hat"
   ]
  },
  {
   "cell_type": "code",
   "execution_count": null,
   "id": "705c97f2-171e-46e6-a30f-3d5f48e69611",
   "metadata": {},
   "outputs": [],
   "source": [
    "def get_all_results():\n",
    "    all_yhat = []\n",
    "    for i in tqdm(range(len(module.val_set))):\n",
    "        x, y, y_hat = get_result(i)\n",
    "        all_yhat.append(y_hat)\n",
    "    return np.stack(all_yhat)"
   ]
  },
  {
   "cell_type": "code",
   "execution_count": null,
   "id": "63678643-a5e5-4701-91b8-74e2a7cbc491",
   "metadata": {},
   "outputs": [],
   "source": [
    "all_yhat = get_all_results()\n"
   ]
  },
  {
   "cell_type": "code",
   "execution_count": null,
   "id": "7c0e24f8-17df-4e80-8a09-a43aba642009",
   "metadata": {},
   "outputs": [],
   "source": [
    "root_val_dir = \"data/val_gt/\"\n",
    "gt_masks = np.stack([np.load(os.path.join(root_val_dir, f\"video_{i}\", \"mask.npy\")) for i in range(1000, 2000)])"
   ]
  },
  {
   "cell_type": "markdown",
   "id": "7ffc060b-7047-4d4f-a42f-0655172f8714",
   "metadata": {},
   "source": [
    "# Visualization"
   ]
  },
  {
   "cell_type": "code",
   "execution_count": null,
   "id": "b639b701-50f0-4a7c-8a99-37d57b905bc0",
   "metadata": {},
   "outputs": [],
   "source": [
    "def get_gif(i):\n",
    "    x, y, y_hat = get_result(i)\n",
    "    show_gif(x, y, y_hat, out_path='./result.gif')\n",
    "get_gif(50)"
   ]
  },
  {
   "cell_type": "code",
   "execution_count": null,
   "id": "035b25e8-e8b0-4759-ba44-3c09a416db08",
   "metadata": {},
   "outputs": [],
   "source": [
    "show_video_line(gt_masks[50], 22)"
   ]
  },
  {
   "cell_type": "code",
   "execution_count": null,
   "id": "6b685673-3962-449e-b607-47c8471d0946",
   "metadata": {},
   "outputs": [],
   "source": [
    "show_video_line(np.concatenate((gt_masks[50, :11], all_yhat[50]), axis=0), 22)"
   ]
  },
  {
   "cell_type": "code",
   "execution_count": null,
   "id": "1f52ca10-3a90-41fb-8f81-35d81a2bfb77",
   "metadata": {},
   "outputs": [],
   "source": [
    "# show_video_line(np.concatenate([all_x[vis_idx], all_yhat[vis_idx]], axis=0), 22)"
   ]
  },
  {
   "cell_type": "markdown",
   "id": "ed7e71ef-8e40-4f30-8504-4186ad812335",
   "metadata": {},
   "source": [
    "# IoU calculation"
   ]
  },
  {
   "cell_type": "code",
   "execution_count": null,
   "id": "ea2e7f2f-278c-4aa4-b5d6-5ff13e2e2431",
   "metadata": {},
   "outputs": [],
   "source": [
    "from torchmetrics import JaccardIndex"
   ]
  },
  {
   "cell_type": "code",
   "execution_count": null,
   "id": "740d265c-2a11-4d6f-9fd4-1bdecc91ff96",
   "metadata": {},
   "outputs": [],
   "source": [
    "jaccard = JaccardIndex(task='multiclass', num_classes=49)"
   ]
  },
  {
   "cell_type": "code",
   "execution_count": null,
   "id": "4873a0b0-ff4d-4ba7-ba40-d7a1b2cd6fb8",
   "metadata": {},
   "outputs": [],
   "source": [
    "jaccard(torch.from_numpy(all_yhat[:,-1]), torch.from_numpy(gt_masks[:, -1]))"
   ]
  },
  {
   "cell_type": "code",
   "execution_count": null,
   "id": "cded194d-3f23-48c0-9c9f-054aae1f746f",
   "metadata": {},
   "outputs": [],
   "source": []
  }
 ],
 "metadata": {
  "kernelspec": {
   "display_name": "python3",
   "language": "python",
   "name": "python3"
  }
 },
 "nbformat": 4,
 "nbformat_minor": 5
}
