{
 "cells": [
  {
   "cell_type": "code",
   "execution_count": null,
   "id": "30a44e0c-79d1-4b15-ba2e-bdf2fac859ae",
   "metadata": {},
   "outputs": [],
   "source": [
    "import torch\n",
    "import numpy as np\n",
    "import os\n",
    "import matplotlib.pyplot as plt\n",
    "from torchmetrics import JaccardIndex"
   ]
  },
  {
   "cell_type": "code",
   "execution_count": null,
   "id": "bd3e1991",
   "metadata": {},
   "outputs": [],
   "source": [
    "final_leaderboard = torch.load('../final_leaderboard_team_19.pt')"
   ]
  },
  {
   "cell_type": "code",
   "execution_count": null,
   "id": "9b7f1dfa",
   "metadata": {},
   "outputs": [],
   "source": [
    "plt.imshow(final_leaderboard[-1])"
   ]
  },
  {
   "cell_type": "code",
   "execution_count": null,
   "id": "f958ac24",
   "metadata": {},
   "outputs": [],
   "source": [
    "train_gt_masks = torch.load('../data/DL/train_gt_masks.pt').to(torch.device(\"cuda\"))\n",
    "train_masks = torch.load('../data/DL/train_masks.pt').to(torch.device(\"cuda\"))"
   ]
  },
  {
   "cell_type": "code",
   "execution_count": null,
   "id": "8b5f36ec",
   "metadata": {},
   "outputs": [],
   "source": [
    "jaccard = JaccardIndex(task='multiclass', num_classes=49).to(torch.device(\"cuda\"))\n"
   ]
  },
  {
   "cell_type": "code",
   "execution_count": null,
   "id": "dde0e2a0",
   "metadata": {},
   "outputs": [],
   "source": [
    "jaccard(train_masks[:, -1], train_gt_masks[:, -1])"
   ]
  },
  {
   "cell_type": "markdown",
   "id": "71e95169",
   "metadata": {},
   "source": [
    "# Run merge masks"
   ]
  },
  {
   "cell_type": "code",
   "execution_count": null,
   "id": "73626117",
   "metadata": {},
   "outputs": [],
   "source": [
    "import tqdm\n",
    "\n",
    "all_masks = []\n",
    "data_root = '../data/Dataset_Student/train'\n",
    "output_file = '../data/DL/train_masks_new.pt'\n",
    "for i in tqdm.tqdm(range(1000)):\n",
    "    mask = np.load(os.path.join(data_root, f\"video_{i}\", \"mask.npy\"))\n",
    "    all_masks.append(mask)\n",
    "\n",
    "all_masks = np.stack(all_masks)\n",
    "torch.save(torch.from_numpy(all_masks), output_file)"
   ]
  },
  {
   "cell_type": "code",
   "execution_count": null,
   "id": "d53de8aa",
   "metadata": {},
   "outputs": [],
   "source": [
    "train_masks_new = torch.load('../data/DL/train_gt_masks_new.pt')\n",
    "train_masks = torch.load('../data/DL/train_gt_masks.pt')\n"
   ]
  },
  {
   "cell_type": "code",
   "execution_count": null,
   "id": "ae64a68d",
   "metadata": {},
   "outputs": [],
   "source": [
    "torch.allclose(train_masks[-1], train_masks_new[-1])"
   ]
  }
 ],
 "metadata": {
  "kernelspec": {
   "display_name": "python3",
   "language": "python",
   "name": "python3"
  }
 },
 "nbformat": 4,
 "nbformat_minor": 5
}
